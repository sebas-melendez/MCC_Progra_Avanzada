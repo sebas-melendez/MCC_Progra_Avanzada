{
  "cells": [
    {
      "cell_type": "markdown",
      "metadata": {
        "id": "view-in-github",
        "colab_type": "text"
      },
      "source": [
        "<a href=\"https://colab.research.google.com/github/sebas-melendez/MCC_Progra_Avanzada/blob/main/notebooks/linked_list.ipynb\" target=\"_parent\"><img src=\"https://colab.research.google.com/assets/colab-badge.svg\" alt=\"Open In Colab\"/></a>"
      ]
    },
    {
      "cell_type": "markdown",
      "id": "af0fce85",
      "metadata": {
        "id": "af0fce85"
      },
      "source": [
        "# Linked List"
      ]
    },
    {
      "cell_type": "markdown",
      "id": "c91bcf8f",
      "metadata": {
        "id": "c91bcf8f"
      },
      "source": [
        "[Click here to run this chapter on Colab](https://colab.research.google.com/github/AllenDowney/DSIRP/blob/main/notebooks/linked_list.ipynb)"
      ]
    },
    {
      "cell_type": "markdown",
      "id": "394c2889",
      "metadata": {
        "id": "394c2889"
      },
      "source": [
        "## Linked Lists\n",
        "\n",
        "Implementing operations on linked lists is a staple of programming classes and technical interviews.\n",
        "\n",
        "I resist them because it is unlikely that you will ever have to implement a linked list in your professional work. And if you do, someone has made a bad decision.\n",
        "\n",
        "However, they can be good études, that is, pieces that you practice in order to learn, but never perform."
      ]
    },
    {
      "cell_type": "markdown",
      "id": "b33cc740",
      "metadata": {
        "id": "b33cc740"
      },
      "source": [
        "For many of these problems, there are several possible solutions, depending on the requirements:\n",
        "\n",
        "* Are you allowed to modify an existing list, or do you have to create a new one?\n",
        "\n",
        "* If you modify an existing structure, are you also supposed to return a reference to it?\n",
        "\n",
        "* Are you allowed to allocate temporary structures, or do you have to perform all operations in place?\n",
        "\n",
        "And for all of these problems, you could write a solution iteratively or recursively. So there are many possible solutions for each."
      ]
    },
    {
      "cell_type": "markdown",
      "id": "36900610",
      "metadata": {
        "id": "36900610"
      },
      "source": [
        "As we consider alternatives, some of the factors to keep in mind are:\n",
        "\n",
        "* Performance in terms of time and space.\n",
        "\n",
        "* Readability and demonstrably correctness.\n",
        "\n",
        "In general, performance should be asymptotically efficient; for example, if there is a constant time solution, a linear solution would not be acceptable.\n",
        "But we might be willing to pay some overhead to achieve bulletproof correctness."
      ]
    },
    {
      "cell_type": "markdown",
      "id": "7aa7d3f6",
      "metadata": {
        "id": "7aa7d3f6"
      },
      "source": [
        "Here's the class we'll use to represent the nodes in a list."
      ]
    },
    {
      "cell_type": "code",
      "execution_count": 315,
      "id": "c3eda892",
      "metadata": {
        "id": "c3eda892"
      },
      "outputs": [],
      "source": [
        "class Node:\n",
        "    def __init__(self, data, next=None):\n",
        "        self.data = data\n",
        "        self.next = next\n",
        "\n",
        "    def __repr__(self):\n",
        "        return f'Node({self.data}, {repr(self.next)})'"
      ]
    },
    {
      "cell_type": "markdown",
      "id": "bbf5ad6f",
      "metadata": {
        "id": "bbf5ad6f"
      },
      "source": [
        "We can create nodes like this:"
      ]
    },
    {
      "cell_type": "code",
      "execution_count": 316,
      "id": "3eb18535",
      "metadata": {
        "tags": [],
        "colab": {
          "base_uri": "https://localhost:8080/"
        },
        "id": "3eb18535",
        "outputId": "591d9f07-cd9d-41a1-f7b7-597b18022f55"
      },
      "outputs": [
        {
          "output_type": "execute_result",
          "data": {
            "text/plain": [
              "Node(1, None)"
            ]
          },
          "metadata": {},
          "execution_count": 316
        }
      ],
      "source": [
        "node1 = Node(1)\n",
        "node2 = Node(2)\n",
        "node3 = Node(3)\n",
        "\n",
        "node1"
      ]
    },
    {
      "cell_type": "markdown",
      "id": "fdfd0222",
      "metadata": {
        "id": "fdfd0222"
      },
      "source": [
        "And then link them up, like this:"
      ]
    },
    {
      "cell_type": "code",
      "execution_count": 317,
      "id": "80748b5d",
      "metadata": {
        "tags": [],
        "id": "80748b5d"
      },
      "outputs": [],
      "source": [
        "node1.next = node2\n",
        "node2.next = node3"
      ]
    },
    {
      "cell_type": "code",
      "execution_count": 318,
      "id": "29a7ebcc",
      "metadata": {
        "colab": {
          "base_uri": "https://localhost:8080/"
        },
        "id": "29a7ebcc",
        "outputId": "91968495-77a5-4661-8df2-b3c7b91dd301"
      },
      "outputs": [
        {
          "output_type": "execute_result",
          "data": {
            "text/plain": [
              "Node(1, Node(2, Node(3, None)))"
            ]
          },
          "metadata": {},
          "execution_count": 318
        }
      ],
      "source": [
        "node1"
      ]
    },
    {
      "cell_type": "markdown",
      "id": "c0568a9b",
      "metadata": {
        "id": "c0568a9b"
      },
      "source": [
        "There are two ways to think about what `node1` is:\n",
        "\n",
        "* It is \"just\" a node object, which happens to contain a link to another node.\n",
        "\n",
        "* It is the first node in a linked list of nodes.\n",
        "\n",
        "When we pass a node as a parameter, sometimes we think of it as a node and sometimes we think of it as the beginning of a list."
      ]
    },
    {
      "cell_type": "markdown",
      "id": "f21575f6",
      "metadata": {
        "id": "f21575f6"
      },
      "source": [
        "## LinkedList objects\n",
        "\n",
        "For some operations, it will be convenient to have another object that represents the whole list (as opposed to one of its nodes).\n",
        "\n",
        "Here's the class definition."
      ]
    },
    {
      "cell_type": "code",
      "execution_count": 319,
      "id": "f1c32da2",
      "metadata": {
        "id": "f1c32da2"
      },
      "outputs": [],
      "source": [
        "class LinkedList:\n",
        "    def __init__(self, head=None):\n",
        "        self.head = head\n",
        "\n",
        "    def __repr__(self):\n",
        "        return f'LinkedList({repr(self.head)})'"
      ]
    },
    {
      "cell_type": "markdown",
      "id": "c41fb536",
      "metadata": {
        "id": "c41fb536"
      },
      "source": [
        "If we create a `LinkedList` with a reference to `node1`, we can think of the result as a list with three elements."
      ]
    },
    {
      "cell_type": "code",
      "execution_count": 320,
      "id": "f8def755",
      "metadata": {
        "tags": [],
        "colab": {
          "base_uri": "https://localhost:8080/"
        },
        "id": "f8def755",
        "outputId": "f2167984-12b8-400d-ecef-279e2564c8f7"
      },
      "outputs": [
        {
          "output_type": "execute_result",
          "data": {
            "text/plain": [
              "LinkedList(Node(1, Node(2, Node(3, None))))"
            ]
          },
          "metadata": {},
          "execution_count": 320
        }
      ],
      "source": [
        "t = LinkedList(node1)\n",
        "t"
      ]
    },
    {
      "cell_type": "markdown",
      "id": "e38e3c31",
      "metadata": {
        "id": "e38e3c31"
      },
      "source": [
        "## Search\n",
        "\n",
        "**Exercise:** Write a function called `find` that takes a `LinkedList` and a target value; if the target value appears in the `LinkedList`, it should return the `Node` that contains it; otherwise it should return `None`."
      ]
    },
    {
      "cell_type": "code",
      "source": [
        "#Quiero debuggear bien como andamos tratando este objeto, parece ser una tuple con mas tuplas dentro\n",
        "print(t)\n",
        "print(t.head.next.next.data)\n",
        "#ok ya vimos que podemos acceder a cada valor de datos haciendo nexts... entonces... uhhh"
      ],
      "metadata": {
        "colab": {
          "base_uri": "https://localhost:8080/"
        },
        "id": "WIDcyLNmhcA6",
        "outputId": "70a0d49b-9721-4f2d-e081-dde4f888f876"
      },
      "id": "WIDcyLNmhcA6",
      "execution_count": 321,
      "outputs": [
        {
          "output_type": "stream",
          "name": "stdout",
          "text": [
            "LinkedList(Node(1, Node(2, Node(3, None))))\n",
            "3\n"
          ]
        }
      ]
    },
    {
      "cell_type": "code",
      "execution_count": 322,
      "id": "0ce358f1",
      "metadata": {
        "id": "0ce358f1"
      },
      "outputs": [],
      "source": [
        "from warnings import catch_warnings\n",
        "def find(listocha,target):\n",
        "  i = t.head\n",
        "  while True :\n",
        "    if i.data == target: return i\n",
        "    i = i.next\n",
        "    if i.data == target: return i\n",
        "    if i.next == None : break\n",
        "  return \"None\""
      ]
    },
    {
      "cell_type": "markdown",
      "id": "c2261efc",
      "metadata": {
        "id": "c2261efc"
      },
      "source": [
        "You can use these examples to test your code."
      ]
    },
    {
      "cell_type": "code",
      "execution_count": 285,
      "id": "415369b0",
      "metadata": {
        "colab": {
          "base_uri": "https://localhost:8080/"
        },
        "id": "415369b0",
        "outputId": "257bcf81-7466-45f4-be5d-c645369533cf"
      },
      "outputs": [
        {
          "output_type": "execute_result",
          "data": {
            "text/plain": [
              "Node(1, Node(2, Node(3, None)))"
            ]
          },
          "metadata": {},
          "execution_count": 285
        }
      ],
      "source": [
        "find(t, 1)"
      ]
    },
    {
      "cell_type": "code",
      "execution_count": 286,
      "id": "320aa238",
      "metadata": {
        "colab": {
          "base_uri": "https://localhost:8080/"
        },
        "id": "320aa238",
        "outputId": "c751a251-b9ac-4fb7-9679-ad3a8c461dfb"
      },
      "outputs": [
        {
          "output_type": "execute_result",
          "data": {
            "text/plain": [
              "Node(3, None)"
            ]
          },
          "metadata": {},
          "execution_count": 286
        }
      ],
      "source": [
        "find(t, 3)"
      ]
    },
    {
      "cell_type": "code",
      "execution_count": 287,
      "id": "70165057",
      "metadata": {
        "colab": {
          "base_uri": "https://localhost:8080/",
          "height": 36
        },
        "id": "70165057",
        "outputId": "dbc2ae85-d193-4373-e98b-9772969a3c1e"
      },
      "outputs": [
        {
          "output_type": "execute_result",
          "data": {
            "text/plain": [
              "'None'"
            ],
            "application/vnd.google.colaboratory.intrinsic+json": {
              "type": "string"
            }
          },
          "metadata": {},
          "execution_count": 287
        }
      ],
      "source": [
        "find(t, 5)"
      ]
    },
    {
      "cell_type": "markdown",
      "id": "44af708a",
      "metadata": {
        "id": "44af708a"
      },
      "source": [
        "## Push and Pop\n",
        "\n",
        "Adding and removing elements from the *left* side of a linked list is relatively easy:"
      ]
    },
    {
      "cell_type": "code",
      "execution_count": 288,
      "id": "7b522c71",
      "metadata": {
        "tags": [],
        "id": "7b522c71"
      },
      "outputs": [],
      "source": [
        "def lpush(t, value):\n",
        "    t.head = Node(value, t.head)"
      ]
    },
    {
      "cell_type": "code",
      "execution_count": 289,
      "id": "9ee37b46",
      "metadata": {
        "tags": [],
        "colab": {
          "base_uri": "https://localhost:8080/"
        },
        "id": "9ee37b46",
        "outputId": "84480995-db92-45ce-e523-2f3b4fe1554c"
      },
      "outputs": [
        {
          "output_type": "execute_result",
          "data": {
            "text/plain": [
              "LinkedList(Node(1, Node(2, Node(3, None))))"
            ]
          },
          "metadata": {},
          "execution_count": 289
        }
      ],
      "source": [
        "t = LinkedList()\n",
        "lpush(t, 3)\n",
        "lpush(t, 2)\n",
        "lpush(t, 1)\n",
        "t"
      ]
    },
    {
      "cell_type": "code",
      "execution_count": 290,
      "id": "541d2764",
      "metadata": {
        "tags": [],
        "id": "541d2764"
      },
      "outputs": [],
      "source": [
        "def lpop(t):\n",
        "    if t.head is None:\n",
        "        raise ValueError('Tried to pop from empty LinkedList')\n",
        "    node = t.head\n",
        "    t.head = node.next\n",
        "    return node.data"
      ]
    },
    {
      "cell_type": "code",
      "execution_count": 291,
      "id": "091cf27c",
      "metadata": {
        "tags": [],
        "colab": {
          "base_uri": "https://localhost:8080/"
        },
        "id": "091cf27c",
        "outputId": "aea93daf-4b2b-4fe0-ff46-ca93427b65d0"
      },
      "outputs": [
        {
          "output_type": "execute_result",
          "data": {
            "text/plain": [
              "(1, 2, 3)"
            ]
          },
          "metadata": {},
          "execution_count": 291
        }
      ],
      "source": [
        "lpop(t), lpop(t), lpop(t)"
      ]
    },
    {
      "cell_type": "code",
      "execution_count": 292,
      "id": "23ac16de",
      "metadata": {
        "tags": [],
        "colab": {
          "base_uri": "https://localhost:8080/"
        },
        "id": "23ac16de",
        "outputId": "0eb08fa4-05db-4ec9-993d-d38ea2d424c2"
      },
      "outputs": [
        {
          "output_type": "execute_result",
          "data": {
            "text/plain": [
              "LinkedList(None)"
            ]
          },
          "metadata": {},
          "execution_count": 292
        }
      ],
      "source": [
        "t"
      ]
    },
    {
      "cell_type": "markdown",
      "id": "82eaab11",
      "metadata": {
        "id": "82eaab11"
      },
      "source": [
        "Adding and removing from the end right side take longer because we have to traverse the list.\n",
        "\n",
        "**Exercise:** Write `rpush` and `rpop`."
      ]
    },
    {
      "cell_type": "code",
      "execution_count": 293,
      "id": "0830b88e",
      "metadata": {
        "id": "0830b88e"
      },
      "outputs": [],
      "source": [
        "def rpush(t, value):\n",
        "  if t.head is None:\n",
        "    t.head = Node(value, t.head)\n",
        "  i = t.head\n",
        "  while True:\n",
        "    if i.next == None:break\n",
        "    i = i.next\n",
        "  i.next = Node(value)\n",
        "  i.next.next = None\n",
        "  return None\n",
        "\n",
        "def rpop(t):\n",
        "  if t.head is None:\n",
        "      raise ValueError('Tried to pop from empty LinkedList')\n",
        "  i = t.head\n",
        "  while True:\n",
        "    if i.next == None:break\n",
        "    if i.next.next == None:break\n",
        "    i = i.next\n",
        "  i.next = None\n",
        "  return None"
      ]
    },
    {
      "cell_type": "code",
      "execution_count": 294,
      "id": "4a6d6869",
      "metadata": {
        "id": "4a6d6869",
        "colab": {
          "base_uri": "https://localhost:8080/"
        },
        "outputId": "2aaa18d9-aa8a-4b76-980d-11de491ffcfe"
      },
      "outputs": [
        {
          "output_type": "execute_result",
          "data": {
            "text/plain": [
              "LinkedList(Node(777, Node(777, None)))"
            ]
          },
          "metadata": {},
          "execution_count": 294
        }
      ],
      "source": [
        "rpush(t, 777)\n",
        "t"
      ]
    },
    {
      "cell_type": "code",
      "source": [
        "rpop(t)\n",
        "t"
      ],
      "metadata": {
        "colab": {
          "base_uri": "https://localhost:8080/"
        },
        "id": "7CHPklVkiLxT",
        "outputId": "994cac7e-8fdb-4f17-9031-c56a008a02be"
      },
      "id": "7CHPklVkiLxT",
      "execution_count": 295,
      "outputs": [
        {
          "output_type": "execute_result",
          "data": {
            "text/plain": [
              "LinkedList(Node(777, None))"
            ]
          },
          "metadata": {},
          "execution_count": 295
        }
      ]
    },
    {
      "cell_type": "markdown",
      "id": "03468ac4",
      "metadata": {
        "id": "03468ac4"
      },
      "source": [
        "You can use the following example to test your code."
      ]
    },
    {
      "cell_type": "code",
      "execution_count": 296,
      "id": "e598b176",
      "metadata": {
        "id": "e598b176",
        "colab": {
          "base_uri": "https://localhost:8080/"
        },
        "outputId": "e02fb4dd-e1ac-4144-da3b-4dd2edd140e6"
      },
      "outputs": [
        {
          "output_type": "execute_result",
          "data": {
            "text/plain": [
              "LinkedList(Node(1, Node(1, None)))"
            ]
          },
          "metadata": {},
          "execution_count": 296
        }
      ],
      "source": [
        "t = LinkedList()\n",
        "rpush(t, 1)\n",
        "t"
      ]
    },
    {
      "cell_type": "code",
      "execution_count": 297,
      "id": "40c86ff1",
      "metadata": {
        "id": "40c86ff1",
        "colab": {
          "base_uri": "https://localhost:8080/"
        },
        "outputId": "3677ba24-417f-4925-9f13-0ad5b6c95e49"
      },
      "outputs": [
        {
          "output_type": "execute_result",
          "data": {
            "text/plain": [
              "LinkedList(Node(1, Node(1, Node(2, None))))"
            ]
          },
          "metadata": {},
          "execution_count": 297
        }
      ],
      "source": [
        "rpush(t, 2)\n",
        "t"
      ]
    },
    {
      "cell_type": "code",
      "execution_count": 298,
      "id": "e0f844f6",
      "metadata": {
        "id": "e0f844f6"
      },
      "outputs": [],
      "source": [
        "rpop(t)"
      ]
    },
    {
      "cell_type": "code",
      "execution_count": 299,
      "id": "53af610c",
      "metadata": {
        "id": "53af610c"
      },
      "outputs": [],
      "source": [
        "rpop(t)"
      ]
    },
    {
      "cell_type": "code",
      "execution_count": 300,
      "id": "860a382c",
      "metadata": {
        "id": "860a382c"
      },
      "outputs": [],
      "source": [
        "try:\n",
        "    rpop(t)\n",
        "except ValueError as e:\n",
        "    print(e)"
      ]
    },
    {
      "cell_type": "markdown",
      "id": "4c3b6a6c",
      "metadata": {
        "id": "4c3b6a6c"
      },
      "source": [
        "## Reverse\n",
        "\n",
        "Reversing a linked list is a classic interview question, although at this point it is so classic you will probably never encounter it.\n",
        "\n",
        "But it is still a good exercise, in part because there are so many ways to do it. My solutions here are based on [this tutorial](https://www.geeksforgeeks.org/reverse-a-linked-list/)."
      ]
    },
    {
      "cell_type": "markdown",
      "id": "0c1dc751",
      "metadata": {
        "id": "0c1dc751"
      },
      "source": [
        "If you are allowed to make a new list, you can traverse the old list and `lpush` the elements onto the new list:"
      ]
    },
    {
      "cell_type": "code",
      "execution_count": 301,
      "id": "8e09adea",
      "metadata": {
        "id": "8e09adea"
      },
      "outputs": [],
      "source": [
        "def reverse(t):\n",
        "    t2 = LinkedList()\n",
        "    node = t.head\n",
        "    while node:\n",
        "        lpush(t2, node.data)\n",
        "        node = node.next\n",
        "\n",
        "    return t2"
      ]
    },
    {
      "cell_type": "code",
      "execution_count": 302,
      "id": "fd9fcc52",
      "metadata": {
        "id": "fd9fcc52",
        "colab": {
          "base_uri": "https://localhost:8080/"
        },
        "outputId": "6807275c-ef54-4e76-9fc6-6b80b3fb0a18"
      },
      "outputs": [
        {
          "output_type": "execute_result",
          "data": {
            "text/plain": [
              "LinkedList(Node(3, Node(2, Node(1, None))))"
            ]
          },
          "metadata": {},
          "execution_count": 302
        }
      ],
      "source": [
        "t = LinkedList(Node(1, Node(2, Node(3, None))))\n",
        "reverse(t)"
      ]
    },
    {
      "cell_type": "markdown",
      "id": "650cd970",
      "metadata": {
        "id": "650cd970"
      },
      "source": [
        "Here's a recursive version that doesn't allocate anything"
      ]
    },
    {
      "cell_type": "code",
      "execution_count": 303,
      "id": "39ecaac5",
      "metadata": {
        "id": "39ecaac5"
      },
      "outputs": [],
      "source": [
        "def reverse(t):\n",
        "    t.head = reverse_rec(t.head)\n",
        "\n",
        "def reverse_rec(node):\n",
        "\n",
        "    # if there are 0 or 1 nodes\n",
        "    if node is None or node.next is None:\n",
        "        return node\n",
        "\n",
        "    # reverse the rest LinkedList\n",
        "    rest = reverse_rec(node.next)\n",
        "\n",
        "    # Put first element at the end\n",
        "    node.next.next = node\n",
        "    node.next = None\n",
        "\n",
        "    return rest"
      ]
    },
    {
      "cell_type": "code",
      "execution_count": 304,
      "id": "a1b1c5b4",
      "metadata": {
        "id": "a1b1c5b4",
        "colab": {
          "base_uri": "https://localhost:8080/"
        },
        "outputId": "38940ec7-8e91-47d4-ddaa-f57dd865bd4e"
      },
      "outputs": [
        {
          "output_type": "execute_result",
          "data": {
            "text/plain": [
              "LinkedList(Node(3, Node(2, Node(1, None))))"
            ]
          },
          "metadata": {},
          "execution_count": 304
        }
      ],
      "source": [
        "t = LinkedList(Node(1, Node(2, Node(3, None))))\n",
        "reverse(t)\n",
        "t"
      ]
    },
    {
      "cell_type": "markdown",
      "id": "24e735a0",
      "metadata": {
        "id": "24e735a0"
      },
      "source": [
        "And finally an iterative version that doesn't allocate anything."
      ]
    },
    {
      "cell_type": "code",
      "execution_count": 305,
      "id": "a99a76d9",
      "metadata": {
        "id": "a99a76d9"
      },
      "outputs": [],
      "source": [
        "def reverse(t):\n",
        "    prev = None\n",
        "    current = t.head\n",
        "    while current :\n",
        "        next = current.next\n",
        "        current.next = prev\n",
        "        prev = current\n",
        "        current = next\n",
        "    t.head = prev"
      ]
    },
    {
      "cell_type": "code",
      "execution_count": 306,
      "id": "bfe8841a",
      "metadata": {
        "id": "bfe8841a",
        "colab": {
          "base_uri": "https://localhost:8080/"
        },
        "outputId": "fa9e6321-d006-4395-b45b-0306463e260c"
      },
      "outputs": [
        {
          "output_type": "execute_result",
          "data": {
            "text/plain": [
              "LinkedList(Node(3, Node(2, Node(1, None))))"
            ]
          },
          "metadata": {},
          "execution_count": 306
        }
      ],
      "source": [
        "t = LinkedList(Node(1, Node(2, Node(3, None))))\n",
        "reverse(t)\n",
        "t"
      ]
    },
    {
      "cell_type": "markdown",
      "id": "cf2e89ec",
      "metadata": {
        "id": "cf2e89ec"
      },
      "source": [
        "## Remove\n",
        "\n",
        "One of the advantages of a linked list (compared to an array list) is that we can add and remove elements from the middle of the list in constant time.\n",
        "\n",
        "For example, the following function takes a node and removes the node that follows it."
      ]
    },
    {
      "cell_type": "code",
      "execution_count": 307,
      "id": "9b7d0ef5",
      "metadata": {
        "id": "9b7d0ef5"
      },
      "outputs": [],
      "source": [
        "def remove_after(node):\n",
        "    removed = node.next\n",
        "    node.next = node.next.next\n",
        "    return removed.data"
      ]
    },
    {
      "cell_type": "markdown",
      "id": "2e0f3d2b",
      "metadata": {
        "id": "2e0f3d2b"
      },
      "source": [
        "Here's an example:"
      ]
    },
    {
      "cell_type": "code",
      "execution_count": 308,
      "id": "fbb1598d",
      "metadata": {
        "id": "fbb1598d",
        "colab": {
          "base_uri": "https://localhost:8080/"
        },
        "outputId": "0d15d96b-2bf8-4b39-e7f7-c7fc722e46db"
      },
      "outputs": [
        {
          "output_type": "execute_result",
          "data": {
            "text/plain": [
              "LinkedList(Node(1, Node(3, None)))"
            ]
          },
          "metadata": {},
          "execution_count": 308
        }
      ],
      "source": [
        "t = LinkedList(Node(1, Node(2, Node(3, None))))\n",
        "remove_after(t.head)\n",
        "t"
      ]
    },
    {
      "cell_type": "markdown",
      "id": "2208f44f",
      "metadata": {
        "id": "2208f44f"
      },
      "source": [
        "**Exercise:** Write a function called `remove` that takes a LinkedList and a target value. It should remove the first node that contains the value, or raise a `ValueError` if it is not found.\n",
        "\n",
        "Hint: This one is a little tricky."
      ]
    },
    {
      "cell_type": "code",
      "execution_count": 324,
      "id": "aaa399ce",
      "metadata": {
        "id": "aaa399ce"
      },
      "outputs": [],
      "source": [
        "def remove(t,value):\n",
        "  i = t.head\n",
        "  #Casos de array de 1 unidad, o vacío\n",
        "  if i.next == None and (i.data != value): raise ValueError('Value Not Found')\n",
        "  elif (i.data == value):\n",
        "    lpop(t)\n",
        "    return None\n",
        "\n",
        "  #Casos donde recorremos el array\n",
        "  while True:\n",
        "    if (i.next or i.next.data)  == None : raise ValueError('Value Not Found')\n",
        "    elif i.next.data == value: break\n",
        "    i= i.next\n",
        "  remove_after(i)\n",
        "  return None\n",
        "\n"
      ]
    },
    {
      "cell_type": "markdown",
      "id": "1a61ed4d",
      "metadata": {
        "id": "1a61ed4d"
      },
      "source": [
        "You can use this example to test your code."
      ]
    },
    {
      "cell_type": "code",
      "execution_count": 310,
      "id": "f8038acf",
      "metadata": {
        "id": "f8038acf",
        "colab": {
          "base_uri": "https://localhost:8080/"
        },
        "outputId": "e1481653-9d13-4f9f-d7f8-9fbb940e63fb"
      },
      "outputs": [
        {
          "output_type": "execute_result",
          "data": {
            "text/plain": [
              "LinkedList(Node(1, Node(2, Node(4, None))))"
            ]
          },
          "metadata": {},
          "execution_count": 310
        }
      ],
      "source": [
        "t = LinkedList(Node(1, Node(2, Node(3, Node(4,None)))))\n",
        "remove(t, 3)\n",
        "t"
      ]
    },
    {
      "cell_type": "code",
      "execution_count": 311,
      "id": "0531d0b5",
      "metadata": {
        "id": "0531d0b5",
        "colab": {
          "base_uri": "https://localhost:8080/"
        },
        "outputId": "b5689ecd-7d19-49d7-a3b0-fade04f5060e"
      },
      "outputs": [
        {
          "output_type": "execute_result",
          "data": {
            "text/plain": [
              "LinkedList(Node(2, Node(4, None)))"
            ]
          },
          "metadata": {},
          "execution_count": 311
        }
      ],
      "source": [
        "remove(t, 1)\n",
        "t"
      ]
    },
    {
      "cell_type": "code",
      "execution_count": 314,
      "id": "191c9489",
      "metadata": {
        "id": "191c9489",
        "colab": {
          "base_uri": "https://localhost:8080/"
        },
        "outputId": "48194128-9f70-496c-9866-43115ccffb86"
      },
      "outputs": [
        {
          "output_type": "stream",
          "name": "stdout",
          "text": [
            "Value Not Found\n"
          ]
        }
      ],
      "source": [
        "try:\n",
        "    remove(t, 4)\n",
        "except ValueError as e:\n",
        "    print(e)"
      ]
    },
    {
      "cell_type": "code",
      "execution_count": 313,
      "id": "41214410",
      "metadata": {
        "id": "41214410",
        "colab": {
          "base_uri": "https://localhost:8080/",
          "height": 287
        },
        "outputId": "6f627ec3-642b-48d0-f197-518e1dcdc51a"
      },
      "outputs": [
        {
          "output_type": "error",
          "ename": "ValueError",
          "evalue": "Value Not Found",
          "traceback": [
            "\u001b[0;31m---------------------------------------------------------------------------\u001b[0m",
            "\u001b[0;31mValueError\u001b[0m                                Traceback (most recent call last)",
            "\u001b[0;32m/tmp/ipython-input-1889835409.py\u001b[0m in \u001b[0;36m<cell line: 0>\u001b[0;34m()\u001b[0m\n\u001b[0;32m----> 1\u001b[0;31m \u001b[0mremove\u001b[0m\u001b[0;34m(\u001b[0m\u001b[0mt\u001b[0m\u001b[0;34m,\u001b[0m \u001b[0;36m3\u001b[0m\u001b[0;34m)\u001b[0m\u001b[0;34m\u001b[0m\u001b[0;34m\u001b[0m\u001b[0m\n\u001b[0m\u001b[1;32m      2\u001b[0m \u001b[0mt\u001b[0m\u001b[0;34m\u001b[0m\u001b[0;34m\u001b[0m\u001b[0m\n",
            "\u001b[0;32m/tmp/ipython-input-935256816.py\u001b[0m in \u001b[0;36mremove\u001b[0;34m(t, value)\u001b[0m\n\u001b[1;32m      2\u001b[0m   \u001b[0mi\u001b[0m \u001b[0;34m=\u001b[0m \u001b[0mt\u001b[0m\u001b[0;34m.\u001b[0m\u001b[0mhead\u001b[0m\u001b[0;34m\u001b[0m\u001b[0;34m\u001b[0m\u001b[0m\n\u001b[1;32m      3\u001b[0m   \u001b[0;31m#Casos de array de 1 unidad, o vacío\u001b[0m\u001b[0;34m\u001b[0m\u001b[0;34m\u001b[0m\u001b[0m\n\u001b[0;32m----> 4\u001b[0;31m   \u001b[0;32mif\u001b[0m \u001b[0mi\u001b[0m\u001b[0;34m.\u001b[0m\u001b[0mnext\u001b[0m \u001b[0;34m==\u001b[0m \u001b[0;32mNone\u001b[0m \u001b[0;32mand\u001b[0m \u001b[0;34m(\u001b[0m\u001b[0mi\u001b[0m\u001b[0;34m.\u001b[0m\u001b[0mdata\u001b[0m \u001b[0;34m!=\u001b[0m \u001b[0mvalue\u001b[0m\u001b[0;34m)\u001b[0m\u001b[0;34m:\u001b[0m \u001b[0;32mraise\u001b[0m \u001b[0mValueError\u001b[0m\u001b[0;34m(\u001b[0m\u001b[0;34m'Value Not Found'\u001b[0m\u001b[0;34m)\u001b[0m\u001b[0;34m\u001b[0m\u001b[0;34m\u001b[0m\u001b[0m\n\u001b[0m\u001b[1;32m      5\u001b[0m   \u001b[0;32melif\u001b[0m \u001b[0;34m(\u001b[0m\u001b[0mi\u001b[0m\u001b[0;34m.\u001b[0m\u001b[0mdata\u001b[0m \u001b[0;34m==\u001b[0m \u001b[0mvalue\u001b[0m\u001b[0;34m)\u001b[0m\u001b[0;34m:\u001b[0m\u001b[0;34m\u001b[0m\u001b[0;34m\u001b[0m\u001b[0m\n\u001b[1;32m      6\u001b[0m     \u001b[0mlpop\u001b[0m\u001b[0;34m(\u001b[0m\u001b[0mt\u001b[0m\u001b[0;34m)\u001b[0m\u001b[0;34m\u001b[0m\u001b[0;34m\u001b[0m\u001b[0m\n",
            "\u001b[0;31mValueError\u001b[0m: Value Not Found"
          ]
        }
      ],
      "source": [
        "remove(t, 3)\n",
        "t"
      ]
    },
    {
      "cell_type": "code",
      "execution_count": null,
      "id": "99aecad6",
      "metadata": {
        "id": "99aecad6"
      },
      "outputs": [],
      "source": [
        "try:\n",
        "    remove(t, 5)\n",
        "except ValueError as e:\n",
        "    print(e)"
      ]
    },
    {
      "cell_type": "markdown",
      "id": "db955d01",
      "metadata": {
        "id": "db955d01"
      },
      "source": [
        "Although `remove_after` is constant time, `remove` is not. Because we have to iterate through the nodes to find the target, `remove` takes linear time."
      ]
    },
    {
      "cell_type": "markdown",
      "id": "ab7f0a6a",
      "metadata": {
        "id": "ab7f0a6a"
      },
      "source": [
        "## Insert Sorted\n",
        "\n",
        "Similarly, you can insert an element into the middle of a linked list in constant time.\n",
        "\n",
        "The following function inserts `data` after the given node in a list."
      ]
    },
    {
      "cell_type": "code",
      "execution_count": null,
      "id": "3e754808",
      "metadata": {
        "id": "3e754808"
      },
      "outputs": [],
      "source": [
        "def insert_after(node, data):\n",
        "    node.next = Node(data, node.next)"
      ]
    },
    {
      "cell_type": "code",
      "execution_count": null,
      "id": "c8022b07",
      "metadata": {
        "id": "c8022b07"
      },
      "outputs": [],
      "source": [
        "t = LinkedList(Node(1, Node(2, Node(3, None))))\n",
        "insert_after(t.head, 5)\n",
        "t"
      ]
    },
    {
      "cell_type": "markdown",
      "id": "5f2a2a1c",
      "metadata": {
        "id": "5f2a2a1c"
      },
      "source": [
        "**Exercise:** Write a function called `insert_sorted` (also known as `insort`) that takes a linked list and a value and inserts the value in the list in the first place where it will be in increasing sorted order, that is, with the smallest element at the beginning."
      ]
    },
    {
      "cell_type": "code",
      "execution_count": null,
      "id": "ec6634e9",
      "metadata": {
        "id": "ec6634e9"
      },
      "outputs": [],
      "source": [
        "def insert_sorted(t, data):\n",
        "    if t.head is None or t.head.data > data:\n",
        "        lpush(t, data)\n",
        "        return\n",
        "\n",
        "    node = t.head\n",
        "    while node.next:\n",
        "        if node.next.data > data:\n",
        "            insert_after(node, data)\n",
        "            return\n",
        "        node = node.next\n",
        "\n",
        "    insert_after(node, data)"
      ]
    },
    {
      "cell_type": "markdown",
      "id": "7de8e7f1",
      "metadata": {
        "id": "7de8e7f1"
      },
      "source": [
        "You can use the following example to test your code."
      ]
    },
    {
      "cell_type": "code",
      "execution_count": null,
      "id": "57cb85bf",
      "metadata": {
        "id": "57cb85bf"
      },
      "outputs": [],
      "source": [
        "t = LinkedList()\n",
        "insert_sorted(t, 1)\n",
        "t"
      ]
    },
    {
      "cell_type": "code",
      "execution_count": null,
      "id": "aff32ed5",
      "metadata": {
        "id": "aff32ed5"
      },
      "outputs": [],
      "source": [
        "insert_sorted(t, 3)\n",
        "t"
      ]
    },
    {
      "cell_type": "code",
      "execution_count": null,
      "id": "14fd6809",
      "metadata": {
        "id": "14fd6809"
      },
      "outputs": [],
      "source": [
        "insert_sorted(t, 0)\n",
        "t"
      ]
    },
    {
      "cell_type": "code",
      "execution_count": null,
      "id": "f612292f",
      "metadata": {
        "id": "f612292f"
      },
      "outputs": [],
      "source": [
        "insert_sorted(t, 2)\n",
        "t"
      ]
    },
    {
      "cell_type": "markdown",
      "id": "007dd1d1",
      "metadata": {
        "id": "007dd1d1"
      },
      "source": [
        "Although `insert_after` is constant time, `insert_sorted` is not. Because we have to iterate through the nodes to find the insertion point, `insert_sorted` takes linear time."
      ]
    },
    {
      "cell_type": "markdown",
      "id": "7386a9b5",
      "metadata": {
        "id": "7386a9b5"
      },
      "source": [
        "*Data Structures and Information Retrieval in Python*\n",
        "\n",
        "Copyright 2021 Allen Downey\n",
        "\n",
        "License: [Creative Commons Attribution-NonCommercial-ShareAlike 4.0 International](https://creativecommons.org/licenses/by-nc-sa/4.0/)"
      ]
    }
  ],
  "metadata": {
    "celltoolbar": "Tags",
    "kernelspec": {
      "display_name": "Python 3 (ipykernel)",
      "language": "python",
      "name": "python3"
    },
    "language_info": {
      "codemirror_mode": {
        "name": "ipython",
        "version": 3
      },
      "file_extension": ".py",
      "mimetype": "text/x-python",
      "name": "python",
      "nbconvert_exporter": "python",
      "pygments_lexer": "ipython3",
      "version": "3.10.1"
    },
    "colab": {
      "provenance": [],
      "include_colab_link": true
    }
  },
  "nbformat": 4,
  "nbformat_minor": 5
}